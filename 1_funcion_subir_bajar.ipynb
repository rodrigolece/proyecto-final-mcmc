{
 "cells": [
  {
   "cell_type": "markdown",
   "metadata": {},
   "source": [
    "###Hamiltoniano\n",
    "\n",
    "El sistema se modela con el modelo de Ising de campo aleatorio. El Hamiltoniano del sistema incorpora, además de la interacción de los espines vecinos, un término de la interacción de cada espín con el campo externo (que va a cambiar en el tiempo), y con un campo local aleatorio. \n",
    "\n",
    "$$ H = - \\sum_{\\langle i, j \\rangle} J s_i s_j - \\sum_{i}(H(t) + h_i)s_i $$\n",
    "\n",
    "El campo aleatorio se escoge dentro de una distribución Gaussiana:\n",
    "\n",
    "$$ P(h) =  \\frac{1}{\\sqrt{2 \\pi} R} e^{-h^2/2R^2} $$\n",
    "\n",
    "Podemos reescribir al Hamiltoniano de la siguiente forma:\n",
    "\n",
    "\n",
    "$$ H = - \\sum_i \\, \\left[ \\sum_{\\langle j_i \\rangle} J s_i s_j + (H(t) + h_i)s_i\\right] $$\n",
    "\n",
    "donde usamos la notación $\\langle j_i \\rangle$ para referirnos a los índices de los espines que son primeros vecinos de $s_i$.\n",
    "\n",
    "Con la suma explícita corriendo sobre el índice $i$, es claro ahora que para un espín fijo $s_i$, la contribución a la energía total del sistema es:\n",
    "\n",
    "$$ H_i = - s_i \\, \\left[J \\sum_{\\langle j_i \\rangle} s_j + H(t) + h_i \\right] $$\n",
    "$$     = - s_i T_i $$"
   ]
  },
  {
   "cell_type": "markdown",
   "metadata": {},
   "source": [
    "###Evolución\n",
    "\n",
    "Tomamos la temperatura igual a cero, y hacemos que todos los espines apunten hacia abajo. El campo externo se va a incrementar de $-\\infty$ a $+\\infty$, adiabáticamente, y posteriormente se va a disminuir en sentido contrario.\n",
    "\n",
    "Originalmente todos los espines apuntan hacia abajo. El campo $H(t)$ es negativo y más grande en valor absoluto que $h_i$, (ésto es $H(t) + h_i < 0$) así que $H_i <0 \\, \\, \\forall i$. \n",
    "\n",
    "Empezamos a incrementar el campo externo y buscamos cuándo es más favorable energéticamente que el espín $s_i$ se voltee. Ésto ocurre cuando $T_i$ se vuelve positivo, y por lo tanto $H_i$ se vuelve positivo. Entonces, $s_i$ cambia de signo y hace que $H_i$ sea de nuevo negativo. \n",
    "\n",
    "Cuando hacemos el camino inverso, disminuyendo el campo, $s_i$ apunta en un principio hacia arriba y ocurre lo contrario. $T_i$ originalmente es positivo, y cuando se vuelve negativo $s_i$ se voltea para hacer que $H_i$ se mantenga negativo."
   ]
  },
  {
   "cell_type": "markdown",
   "metadata": {},
   "source": [
    "# Modelo"
   ]
  },
  {
   "cell_type": "code",
   "execution_count": 1,
   "metadata": {
    "collapsed": false
   },
   "outputs": [
    {
     "name": "stderr",
     "output_type": "stream",
     "text": [
      "INFO: Loading help data...\n"
     ]
    }
   ],
   "source": [
    "using PyPlot"
   ]
  },
  {
   "cell_type": "code",
   "execution_count": 2,
   "metadata": {
    "collapsed": false
   },
   "outputs": [
    {
     "data": {
      "text/plain": [
       "edo_aleatorio (generic function with 1 method)"
      ]
     },
     "execution_count": 2,
     "metadata": {},
     "output_type": "execute_result"
    }
   ],
   "source": [
    "type MicroEstado\n",
    "    σ::Array{Int,2}\n",
    "    h::Array{Float64,2}\n",
    "    #Vamos a suponer que todas las configuraciones son cuadradas\n",
    "    L::Int\n",
    "end\n",
    "\n",
    "import Base.show\n",
    "\n",
    "show(io::IO, m::MicroEstado) = print(io, m.σ)\n",
    "\n",
    "function edo_inicial(L::Int, R, espin)\n",
    "    σ = espin*ones(Int, (L,L))\n",
    "\n",
    "    h = Array(Float64, (L,L))\n",
    "    for i in 1:L^2\n",
    "        # Temporal, hay que cambiar la distribución\n",
    "        h[i] = R*randn()\n",
    "    end\n",
    "\n",
    "    MicroEstado(σ, h, L)\n",
    "end\n",
    "\n",
    "function edo_aleatorio(L::Int, R)\n",
    "    σ = rand(0:1, (L,L))*2 - 1\n",
    "\n",
    "    h = Array(Float64, (L,L))\n",
    "    for i in 1:L^2\n",
    "        # Temporal, hay que cambiar la distribución\n",
    "        h[i] = R*randn()\n",
    "    end\n",
    "\n",
    "    MicroEstado(σ, h, L)\n",
    "end"
   ]
  },
  {
   "cell_type": "code",
   "execution_count": 3,
   "metadata": {
    "collapsed": false
   },
   "outputs": [
    {
     "data": {
      "text/plain": [
       "criterio_espin (generic function with 1 method)"
      ]
     },
     "execution_count": 3,
     "metadata": {},
     "output_type": "execute_result"
    }
   ],
   "source": [
    "function criterio_espin(m::MicroEstado, i::Int, j::Int)\n",
    "    σ = m.σ ; L = m.L\n",
    "\n",
    "    σ[mod1(i-1, L),j] + σ[mod1(i+1, L),j] + σ[i,mod1(j-1, L)] + σ[i,mod1(j+1, L)] + m.h[i,j]\n",
    "end"
   ]
  },
  {
   "cell_type": "code",
   "execution_count": 4,
   "metadata": {
    "collapsed": false
   },
   "outputs": [
    {
     "data": {
      "text/plain": [
       "voltea_espin! (generic function with 1 method)"
      ]
     },
     "execution_count": 4,
     "metadata": {},
     "output_type": "execute_result"
    }
   ],
   "source": [
    "function voltea_espin!(m::MicroEstado, i::Int, j::Int)\n",
    "    m.σ[i,j] *= -1\n",
    "end"
   ]
  },
  {
   "cell_type": "code",
   "execution_count": 6,
   "metadata": {
    "collapsed": false
   },
   "outputs": [
    {
     "data": {
      "text/plain": [
       "max_abajo (generic function with 1 method)"
      ]
     },
     "execution_count": 6,
     "metadata": {},
     "output_type": "execute_result"
    }
   ],
   "source": [
    "function max_abajo(m::MicroEstado, valor_min, espin)\n",
    "    tmp = Array(Float64,(m.L,m.L))\n",
    "    \n",
    "    for i = 1:m.L, j = 1:m.L\n",
    "        if m.σ[i,j] == espin\n",
    "            tmp[i,j] = -espin*criterio_espin(m,i,j)\n",
    "        else\n",
    "            tmp[i,j] = valor_min\n",
    "        end\n",
    "    end\n",
    "\n",
    "    f = findmax(tmp) # Da el máximo y el índice lineal del máximo\n",
    "    i = mod1(f[2], m.L)\n",
    "    j = int(ceil(f[2]/m.L))\n",
    "    \n",
    "    espin*f[1], i, j\n",
    "end"
   ]
  },
  {
   "cell_type": "code",
   "execution_count": 8,
   "metadata": {
    "collapsed": false
   },
   "outputs": [
    {
     "data": {
      "text/plain": [
       "espines_vecinos_abajo (generic function with 1 method)"
      ]
     },
     "execution_count": 8,
     "metadata": {},
     "output_type": "execute_result"
    }
   ],
   "source": [
    "function espines_vecinos_abajo(m::MicroEstado,i::Int,j::Int, espin)\n",
    "    vecinos = [ (mod1(i-1,m.L),j), (mod1(i+1,m.L),j), (i,mod1(j-1,m.L)), (i,mod1(j+1,m.L)) ]\n",
    "    vecinos_abajo = (Int,Int)[]\n",
    "\n",
    "    for k in vecinos\n",
    "        if m.σ[k...] == espin\n",
    "            push!(vecinos_abajo, k)\n",
    "        end\n",
    "    end\n",
    "\n",
    "    vecinos_abajo\n",
    "end"
   ]
  },
  {
   "cell_type": "code",
   "execution_count": 9,
   "metadata": {
    "collapsed": false
   },
   "outputs": [
    {
     "data": {
      "text/plain": [
       "avalancha_abajo (generic function with 1 method)"
      ]
     },
     "execution_count": 9,
     "metadata": {},
     "output_type": "execute_result"
    }
   ],
   "source": [
    "function avalancha_abajo!(m::MicroEstado, i::Int, j::Int, H::Float64, espin)\n",
    "    voltea_espin!(m,i,j)\n",
    "    espines_volteados = [(i,j)]\n",
    "\n",
    "    candidatos = espines_vecinos_abajo(m,i,j,espin)\n",
    "\n",
    "    while length(candidatos) > 0\n",
    "        nuevos_candidatos = (Int,Int)[]\n",
    "\n",
    "        for k in candidatos\n",
    "            if m.σ[k...] == espin\n",
    "                if  -espin*(criterio_espin(m,k...) + H) > 0\n",
    "                    voltea_espin!(m,k...)\n",
    "                    push!(espines_volteados,k)\n",
    "                    nuevos_candidatos = vcat(nuevos_candidatos, espines_vecinos_abajo(m,k...,espin))\n",
    "                end\n",
    "            end\n",
    "        end\n",
    "\n",
    "        candidatos = nuevos_candidatos\n",
    "    end\n",
    "\n",
    "    m, espines_volteados\n",
    "end"
   ]
  },
  {
   "cell_type": "code",
   "execution_count": 56,
   "metadata": {
    "collapsed": false
   },
   "outputs": [
    {
     "data": {
      "text/plain": [
       "5x5 Array{Int64,2}:\n",
       "  1  1  -1   1   1\n",
       " -1  1   1  -1   1\n",
       " -1  1  -1   1   1\n",
       " -1  1   1  -1   1\n",
       " -1  1   1  -1  -1"
      ]
     },
     "execution_count": 56,
     "metadata": {},
     "output_type": "execute_result"
    }
   ],
   "source": [
    "m = edo_aleatorio(5,1)"
   ]
  },
  {
   "cell_type": "code",
   "execution_count": 57,
   "metadata": {
    "collapsed": false
   },
   "outputs": [
    {
     "data": {
      "text/plain": [
       "(-3.101539203490334,2,3)"
      ]
     },
     "execution_count": 57,
     "metadata": {},
     "output_type": "execute_result"
    }
   ],
   "source": [
    "valor_min = -(maximum(abs(m.h)))-5\n",
    "\n",
    "max_abajo(m, valor_min, 1)"
   ]
  },
  {
   "cell_type": "code",
   "execution_count": 58,
   "metadata": {
    "collapsed": false
   },
   "outputs": [
    {
     "data": {
      "text/plain": [
       "-3.101539203490334"
      ]
     },
     "execution_count": 58,
     "metadata": {},
     "output_type": "execute_result"
    }
   ],
   "source": [
    "H = ans[1]"
   ]
  },
  {
   "cell_type": "code",
   "execution_count": 59,
   "metadata": {
    "collapsed": false
   },
   "outputs": [
    {
     "data": {
      "text/plain": [
       "(5x5 Array{Int64,2}:\n",
       " -1  -1  -1  -1  -1\n",
       " -1  -1  -1  -1  -1\n",
       " -1  -1  -1  -1  -1\n",
       " -1  -1  -1  -1  -1\n",
       " -1  -1  -1  -1  -1,[(2,3),(2,2),(1,2),(3,2),(5,2),(1,1),(4,2),(5,3),(1,5),(4,3),(2,5),(1,4),(3,5),(4,5),(3,4)])"
      ]
     },
     "execution_count": 59,
     "metadata": {},
     "output_type": "execute_result"
    }
   ],
   "source": [
    "avalancha_abajo!(m, 2,3, H, 1)"
   ]
  },
  {
   "cell_type": "code",
   "execution_count": 20,
   "metadata": {
    "collapsed": false
   },
   "outputs": [
    {
     "data": {
      "text/plain": [
       "magnetizacion_aumenta_H (generic function with 1 method)"
      ]
     },
     "execution_count": 20,
     "metadata": {},
     "output_type": "execute_result"
    }
   ],
   "source": [
    "magnetizacion(m::MicroEstado) = sum(m.σ)\n",
    "\n",
    "function magnetizacion_aumenta_H!(m::MicroEstado, H_set, espin)\n",
    "    valor_min = -(maximum(abs(m.h)))-5\n",
    "    N = m.L^2\n",
    "    mag = [magnetizacion(m)]\n",
    "    \n",
    "    H,i,j = max_abajo(m, valor_min, espin)\n",
    "    hs = [H]\n",
    "\n",
    "    while -espin*(hs[end] - H_set) < 0 && mag[end] != -espin*N\n",
    "        push!(hs, H)\n",
    "        m, volteados = avalancha_abajo!(m,i,j,H, espin)\n",
    "        ΔM = -2espin*length(volteados)\n",
    "        push!(mag, mag[end] + ΔM)\n",
    "        H,i,j = max_abajo(m, valor_min, espin)\n",
    "    end\n",
    "\n",
    "    mag, hs\n",
    "end"
   ]
  },
  {
   "cell_type": "code",
   "execution_count": 23,
   "metadata": {
    "collapsed": false
   },
   "outputs": [
    {
     "name": "stdout",
     "output_type": "stream",
     "text": [
      "elapsed time: 0.459258917 seconds (25863984 bytes allocated, 19.27% gc time)\n"
     ]
    }
   ],
   "source": [
    "L = 50\n",
    "R = 4\n",
    "N = L^2\n",
    "m = edo_inicial(L,R,-1)\n",
    "\n",
    "@time mag1, hs1 = magnetizacion_aumenta_H!(m,15,-1) ;"
   ]
  },
  {
   "cell_type": "code",
   "execution_count": 24,
   "metadata": {
    "collapsed": false
   },
   "outputs": [
    {
     "name": "stdout",
     "output_type": "stream",
     "text": [
      "elapsed time: 0.594307545 seconds (25521664 bytes allocated)\n"
     ]
    }
   ],
   "source": [
    "@time mag2, hs2 = magnetizacion_aumenta_H!(m,-15,1) ;"
   ]
  },
  {
   "cell_type": "code",
   "execution_count": 25,
   "metadata": {
    "collapsed": false
   },
   "outputs": [
    {
     "data": {
      "image/png": "[encoded data removed]",
      "text/plain": [
       "Figure(PyObject <matplotlib.figure.Figure object at 0x1181af2d0>)"
      ]
     },
     "metadata": {},
     "output_type": "display_data"
    }
   ],
   "source": [
    "figure(figsize=(7,5))\n",
    "ylabel(L\"M/N\")\n",
    "xlabel(L\"H/J\") #J=1\n",
    "plot(hs1,mag1/N, \".\")\n",
    "plot(hs2,mag2/N, \".\");"
   ]
  },
  {
   "cell_type": "code",
   "execution_count": null,
   "metadata": {
    "collapsed": true
   },
   "outputs": [],
   "source": []
  }
 ],
 "metadata": {
  "kernelspec": {
   "display_name": "Julia 0.3.6",
   "language": "julia",
   "name": "julia 0.3"
  },
  "language_info": {
   "name": "julia",
   "version": "0.3.6"
  }
 },
 "nbformat": 4,
 "nbformat_minor": 0
}
