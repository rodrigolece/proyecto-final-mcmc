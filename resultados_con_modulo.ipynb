{
 "cells": [
  {
   "cell_type": "markdown",
   "metadata": {},
   "source": [
    "###Hamiltoniano\n",
    "\n",
    "El sistema se modela con el modelo de Ising de campo aleatorio. El Hamiltoniano del sistema incorpora, además de la interacción de los espines vecinos, un término de la interacción de cada espín con el campo externo (que va a cambiar en el tiempo), y con un campo local aleatorio. \n",
    "\n",
    "$$ H = - \\sum_{\\langle i, j \\rangle} J s_i s_j - \\sum_{i}(H(t) + h_i)s_i $$\n",
    "\n",
    "El campo aleatorio se escoge dentro de una distribución Gaussiana:\n",
    "\n",
    "$$ P(h) =  \\frac{1}{\\sqrt{2 \\pi} R} e^{-h^2/2R^2} $$\n",
    "\n",
    "Podemos reescribir al Hamiltoniano de la siguiente forma:\n",
    "\n",
    "\n",
    "$$ H = - \\sum_i \\, \\left[ \\sum_{\\langle j_i \\rangle} J s_i s_j + (H(t) + h_i)s_i\\right] $$\n",
    "\n",
    "donde usamos la notación $\\langle j_i \\rangle$ para referirnos a los índices de los espines que son primeros vecinos de $s_i$.\n",
    "\n",
    "Con la suma explícita corriendo sobre el índice $i$, es claro ahora que para un espín fijo $s_i$, la contribución a la energía total del sistema es:\n",
    "\n",
    "$$ H_i = - s_i \\, \\left[J \\sum_{\\langle j_i \\rangle} s_j + H(t) + h_i \\right] $$\n",
    "$$     = - s_i T_i $$"
   ]
  },
  {
   "cell_type": "markdown",
   "metadata": {},
   "source": [
    "###Evolución\n",
    "\n",
    "Tomamos la temperatura igual a cero, y hacemos que todos los espines apunten hacia abajo. El campo externo se va a incrementar de $-\\infty$ a $+\\infty$, adiabáticamente, y posteriormente se va a disminuir en sentido contrario.\n",
    "\n",
    "Originalmente todos los espines apuntan hacia abajo. El campo $H(t)$ es negativo y más grande en valor absoluto que $h_i$, (ésto es $H(t) + h_i < 0$) así que $H_i <0 \\, \\, \\forall i$. \n",
    "\n",
    "Empezamos a incrementar el campo externo y buscamos cuándo es más favorable energéticamente que el espín $s_i$ se voltee. Ésto ocurre cuando $T_i$ se vuelve positivo, y por lo tanto $H_i$ se vuelve positivo. Entonces, $s_i$ cambia de signo y hace que $H_i$ sea de nuevo negativo. \n",
    "\n",
    "Cuando hacemos el camino inverso, disminuyendo el campo, $s_i$ apunta en un principio hacia arriba y ocurre lo contrario. $T_i$ originalmente es positivo, y cuando se vuelve negativo $s_i$ se voltea para hacer que $H_i$ se mantenga negativo."
   ]
  },
  {
   "cell_type": "markdown",
   "metadata": {},
   "source": [
    "# Modelo"
   ]
  },
  {
   "cell_type": "code",
   "execution_count": 1,
   "metadata": {
    "collapsed": false
   },
   "outputs": [
    {
     "name": "stderr",
     "output_type": "stream",
     "text": [
      "INFO: Loading help data...\n"
     ]
    }
   ],
   "source": [
    "using PyPlot"
   ]
  },
  {
   "cell_type": "code",
   "execution_count": 2,
   "metadata": {
    "collapsed": true
   },
   "outputs": [],
   "source": [
    "using Histeresis"
   ]
  },
  {
   "cell_type": "code",
   "execution_count": 3,
   "metadata": {
    "collapsed": false
   },
   "outputs": [
    {
     "name": "stdout",
     "output_type": "stream",
     "text": [
      "elapsed time: 0.790558399 seconds (31940192 bytes allocated, 10.78% gc time)\n"
     ]
    }
   ],
   "source": [
    "L = 50\n",
    "R = 4\n",
    "N = L^2\n",
    "espin = -1 # Empezamos con los espines apuntando hacia abajo, e incrementamos el campo H\n",
    "m = edo_inicial(L,R,espin)\n",
    "\n",
    "H_set = 15\n",
    "@time mag1, hs1 = magnetizacion_aumenta_H!(m,H_set,espin) ;"
   ]
  },
  {
   "cell_type": "code",
   "execution_count": 4,
   "metadata": {
    "collapsed": false
   },
   "outputs": [
    {
     "name": "stdout",
     "output_type": "stream",
     "text": [
      "elapsed time: 0.451531281 seconds (25461432 bytes allocated, 17.24% gc time)\n"
     ]
    }
   ],
   "source": [
    "# Espines apuntando hacia abajo, y disminuimos el campo H\n",
    "@time mag2, hs2 = magnetizacion_aumenta_H!(m,-H_set,-espin) ;"
   ]
  },
  {
   "cell_type": "code",
   "execution_count": 5,
   "metadata": {
    "collapsed": false
   },
   "outputs": [
    {
     "data": {
      "image/png": "[encoded data removed]",
      "text/plain": [
       "Figure(PyObject <matplotlib.figure.Figure object at 0x10ac103d0>)"
      ]
     },
     "metadata": {},
     "output_type": "display_data"
    }
   ],
   "source": [
    "figure(figsize=(7,5))\n",
    "xlabel(L\"H/J\") #J=1\n",
    "ylabel(L\"M/N\")\n",
    "\n",
    "plot(hs1,mag1/N, \".\")\n",
    "plot(hs2,mag2/N, \".\");"
   ]
  },
  {
   "cell_type": "code",
   "execution_count": null,
   "metadata": {
    "collapsed": true
   },
   "outputs": [],
   "source": []
  }
 ],
 "metadata": {
  "kernelspec": {
   "display_name": "Julia 0.3.6",
   "language": "julia",
   "name": "julia 0.3"
  },
  "language_info": {
   "name": "julia",
   "version": "0.3.6"
  }
 },
 "nbformat": 4,
 "nbformat_minor": 0
}
