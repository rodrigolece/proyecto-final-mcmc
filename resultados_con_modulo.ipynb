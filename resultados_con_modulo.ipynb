{
 "cells": [
  {
   "cell_type": "markdown",
   "metadata": {},
   "source": [
    "###Hamiltoniano\n",
    "\n",
    "El sistema se modela con el modelo de Ising de campo aleatorio. El Hamiltoniano del sistema incorpora, además de la interacción de los espines vecinos, un término de la interacción de cada espín con el campo externo (que va a cambiar en el tiempo), y uno con un campo local aleatorio. \n",
    "\n",
    "$$ H = - \\sum_{\\langle i, j \\rangle} J s_i s_j - \\sum_{i}(H(t) + h_i)s_i $$\n",
    "\n",
    "El campo aleatorio se escoge dentro de una distribución Gaussiana, con desviación estándar $R$:\n",
    "\n",
    "$$ P(h) =  \\frac{1}{\\sqrt{2 \\pi} R} e^{-h^2/2R^2} $$\n",
    "\n",
    "Podemos reescribir al Hamiltoniano de la siguiente forma:\n",
    "\n",
    "$$ H = - \\sum_i \\, \\left[ \\sum_{\\langle j_i \\rangle} J s_i s_j + (H(t) + h_i)s_i\\right] $$\n",
    "\n",
    "donde usamos la notación $\\langle j_i \\rangle$ para referirnos a los índices de los espines que son primeros vecinos de $s_i$.\n",
    "\n",
    "Con la suma explícita corriendo sobre el índice $i$, es claro ahora que para un espín fijo $s_i$, la contribución a la energía total del sistema es:\n",
    "\n",
    "$$ \\begin{array}{c c l}\n",
    "    H_i & = & - s_i \\, \\left[J \\sum_{\\langle j_i \\rangle} s_j + H(t) + h_i \\right] \\\\\n",
    "    & = & - s_i T_i \n",
    "    \\end{array}$$"
   ]
  },
  {
   "cell_type": "markdown",
   "metadata": {},
   "source": [
    "###Evolución\n",
    "\n",
    "Tomamos la temperatura igual a cero, y hacemos que todos los espines apunten hacia abajo. El campo externo se va a incrementar de $-\\infty$ a $+\\infty$, adiabáticamente (de manera infinitamente lenta), y posteriormente se va a disminuir en sentido contrario.\n",
    "\n",
    "Originalmente todos los espines apuntan hacia abajo. El campo $H(t)$ es negativo y más grande en valor absoluto que $h_i$, (ésto es $H(t) + h_i < 0$) así que $H_i <0, \\, \\, \\forall i$. \n",
    "\n",
    "Empezamos a incrementar el campo externo y buscamos cuándo es más favorable energéticamente que el espín $s_i$ se voltee. Ésto ocurre cuando $T_i$ se vuelve positivo, y por lo tanto $H_i$ se vuelve positivo. Entonces, $s_i$ cambia de signo y hace que $H_i$ sea de nuevo negativo. \n",
    "\n",
    "Cuando hacemos el camino inverso, disminuyendo el campo, $s_i$ apunta en un principio hacia arriba y ocurre lo contrario. $T_i$ originalmente es positivo, y cuando se vuelve negativo $s_i$ se voltea para hacer que $H_i$ se mantenga negativo."
   ]
  },
  {
   "cell_type": "markdown",
   "metadata": {},
   "source": [
    "###Avalanchas\n",
    "\n",
    "El modelo que estamos utilizando da lugar de manera natural a avalanchas en las que, después de voltear un espín, a los vecinos les puede ser energeticamente favorable voltearse, sólo debido a la interacción entre espines, y con el campo externo fijo. \n",
    "\n",
    "En el caso en que los espines apuntan para abajo, y el campo magnético externo incrementa, en la implementación del modelo tenemos que buscar al primer espín que se voltea al incrementar $H(t)$. Éste espín tiene el máximo valor de $\\sum s_j + h_i$. Llevamos el campo exactamente al valor necesario para voltearlo, $H(t) = -(J\\sum s_j + h_i)$, y revisamos si hay espines que se pueden voltear por la interacción entre vecinos, esto es, si se produce una avalancha. Si no se produce, o si se produce y se acaban los vecinos que se voltean, recomenzamos y buscamos un nuevo valor máximo de $J\\sum s_j + h_i$\n",
    "\n",
    "Podemos resumir el algoritmo, para propagar una avalancha:\n",
    "1. Buscamos el espín que inicia la avalancha, y que tiene el máximo valor de $J\\sum s_j + h_i$.\n",
    "2. Incrementamos $H(t)$ a menos el valor de este campo interno, y volteamos el espín $s_i$\n",
    "3. Buscamos, entre todos los vecinos que no han sido volteados, los que tienen $J\\sum s_j + h_i + H(t) = T_i > 0$, y los volteamos. Guardamos sus vecinos que no han sido volteados, y volvemos a empezar a buscar entre estos nuevos espines, hasta que ya no haya espines por voltear.\n",
    "4. Repetimos desde el paso 1."
   ]
  },
  {
   "cell_type": "markdown",
   "metadata": {},
   "source": [
    "# Modelo"
   ]
  },
  {
   "cell_type": "code",
   "execution_count": 1,
   "metadata": {
    "collapsed": false
   },
   "outputs": [
    {
     "data": {
      "text/html": [
       "<script charset=\"utf-8\">(function ($, undefined) {\n",
       "\n",
       "    function createElem(tag, attr, content) {\n",
       "\t// TODO: remove jQuery dependency\n",
       "\tvar el = $(\"<\" + tag + \"/>\").attr(attr);\n",
       "\tif (content) {\n",
       "\t    el.append(content);\n",
       "\t}\n",
       "\treturn el[0];\n",
       "    }\n",
       "\n",
       "    // A widget must expose an id field which identifies it to the backend,\n",
       "    // an elem attribute which is will be added to the DOM, and\n",
       "    // a getState() method which returns the value to be sent to the backend\n",
       "    // a sendUpdate() method which sends its current value to the backend\n",
       "    var Widget = {\n",
       "\tid: undefined,\n",
       "\telem: undefined,\n",
       "\tlabel: undefined,\n",
       "\tgetState: function () {\n",
       "\t    return this.elem.value;\n",
       "\t},\n",
       "\tsendUpdate: undefined\n",
       "    };\n",
       "\n",
       "    var Slider = function (typ, id, init) {\n",
       "\tvar attr = { type:  \"range\",\n",
       "\t\t     value: init.value,\n",
       "\t\t     min:   init.min,\n",
       "\t\t     max:   init.max,\n",
       "\t\t     step:  init.step },\n",
       "\t    elem = createElem(\"input\", attr),\n",
       "\t    self = this;\n",
       "\n",
       "\telem.onchange = function () {\n",
       "\t    self.sendUpdate();\n",
       "\t}\n",
       "\n",
       "\tthis.id = id;\n",
       "\tthis.elem = elem;\n",
       "\tthis.label = init.label;\n",
       "\n",
       "\tInputWidgets.commInitializer(this); // Initialize communication\n",
       "    }\n",
       "    Slider.prototype = Widget;\n",
       "\n",
       "    var Checkbox = function (typ, id, init) {\n",
       "\tvar attr = { type: \"checkbox\",\n",
       "\t\t     checked: init.value },\n",
       "\t    elem = createElem(\"input\", attr),\n",
       "\t    self = this;\n",
       "\n",
       "\tthis.getState = function () {\n",
       "\t    return elem.checked;\n",
       "\t}\n",
       "\telem.onchange = function () {\n",
       "\t    self.sendUpdate();\n",
       "\t}\n",
       "\n",
       "\tthis.id = id;\n",
       "\tthis.elem = elem;\n",
       "\tthis.label = init.label;\n",
       "\n",
       "\tInputWidgets.commInitializer(this);\n",
       "    }\n",
       "    Checkbox.prototype = Widget;\n",
       "\n",
       "    var Button = function (typ, id, init) {\n",
       "\tvar attr = { type:    \"button\",\n",
       "\t\t     value:   init.label },\n",
       "\t    elem = createElem(\"input\", attr),\n",
       "\t    self = this;\n",
       "\tthis.getState = function () {\n",
       "\t    return null;\n",
       "\t}\n",
       "\telem.onclick = function () {\n",
       "\t    self.sendUpdate();\n",
       "\t}\n",
       "\n",
       "\tthis.id = id;\n",
       "\tthis.elem = elem;\n",
       "\tthis.label = init.label;\n",
       "\n",
       "\tInputWidgets.commInitializer(this);\n",
       "    }\n",
       "    Button.prototype = Widget;\n",
       "\n",
       "    var Text = function (typ, id, init) {\n",
       "\tvar attr = { type:  \"text\",\n",
       "\t\t     placeholder: init.label,\n",
       "\t\t     value: init.value },\n",
       "\t    elem = createElem(\"input\", attr),\n",
       "\t    self = this;\n",
       "\tthis.getState = function () {\n",
       "\t    return elem.value;\n",
       "\t}\n",
       "\telem.onkeyup = function () {\n",
       "\t    self.sendUpdate();\n",
       "\t}\n",
       "\n",
       "\tthis.id = id;\n",
       "\tthis.elem = elem;\n",
       "\tthis.label = init.label;\n",
       "\n",
       "\tInputWidgets.commInitializer(this);\n",
       "    }\n",
       "    Text.prototype = Widget;\n",
       "\n",
       "    var Textarea = function (typ, id, init) {\n",
       "\tvar attr = { placeholder: init.label },\n",
       "\t    elem = createElem(\"textarea\", attr, init.value),\n",
       "\t    self = this;\n",
       "\tthis.getState = function () {\n",
       "\t    return elem.value;\n",
       "\t}\n",
       "\telem.onchange = function () {\n",
       "\t    self.sendUpdate();\n",
       "\t}\n",
       "\n",
       "\tthis.id = id;\n",
       "\tthis.elem = elem;\n",
       "\tthis.label = init.label;\n",
       "\n",
       "\tInputWidgets.commInitializer(this);\n",
       "    }\n",
       "    Textarea.prototype = Widget;\n",
       "\n",
       "    // RadioButtons\n",
       "    // Dropdown\n",
       "    // HTML\n",
       "    // Latex\n",
       "\n",
       "    var InputWidgets = {\n",
       "\tSlider: Slider,\n",
       "\tCheckbox: Checkbox,\n",
       "\tButton: Button,\n",
       "\tText: Text,\n",
       "\tTextarea: Textarea,\n",
       "\tdebug: false,\n",
       "\tlog: function () {\n",
       "\t    if (InputWidgets.debug) {\n",
       "\t\tconsole.log.apply(console, arguments);\n",
       "\t    }\n",
       "\t},\n",
       "\t// a central way to initalize communication\n",
       "\t// for widgets.\n",
       "\tcommInitializer: function (widget) {\n",
       "\t    widget.sendUpdate = function () {};\n",
       "\t}\n",
       "    };\n",
       "\n",
       "    window.InputWidgets = InputWidgets;\n",
       "\n",
       "})(jQuery, undefined);\n",
       "</script>"
      ]
     },
     "metadata": {},
     "output_type": "display_data"
    },
    {
     "name": "stderr",
     "output_type": "stream",
     "text": [
      "INFO: Loading help data...\n"
     ]
    },
    {
     "data": {
      "text/html": [
       "<script charset=\"utf-8\">(function (IPython, $, _, MathJax, Widgets) {\n",
       "    $.event.special.destroyed = {\n",
       "\tremove: function(o) {\n",
       "\t    if (o.handler) {\n",
       "\t\to.handler.apply(this, arguments)\n",
       "\t    }\n",
       "\t}\n",
       "    }\n",
       "\n",
       "    var redrawValue = function (container, type, val) {\n",
       "\tvar selector = $(\"<div/>\");\n",
       "\tvar oa = new IPython.OutputArea(_.extend(selector, {\n",
       "\t    selector: selector,\n",
       "\t    prompt_area: true,\n",
       "\t    events: IPython.events,\n",
       "\t    keyboard_manager: IPython.keyboard_manager\n",
       "\t})); // Hack to work with IPython 2.1.0\n",
       "\n",
       "\tswitch (type) {\n",
       "\tcase \"image/png\":\n",
       "            var _src = 'data:' + type + ';base64,' + val;\n",
       "\t    $(container).find(\"img\").attr('src', _src);\n",
       "\t    break;\n",
       "\tdefault:\n",
       "\t    var toinsert = IPython.OutputArea.append_map[type].apply(\n",
       "\t\toa, [val, {}, selector]\n",
       "\t    );\n",
       "\t    $(container).empty().append(toinsert.contents());\n",
       "\t    selector.remove();\n",
       "\t}\n",
       "\tif (type === \"text/latex\" && MathJax) {\n",
       "\t    MathJax.Hub.Queue([\"Typeset\", MathJax.Hub, toinsert.get(0)]);\n",
       "\t}\n",
       "    }\n",
       "\n",
       "\n",
       "    $(document).ready(function() {\n",
       "\tWidgets.debug = false; // log messages etc in console.\n",
       "\tfunction initComm(evt, data) {\n",
       "\t    var comm_manager = data.kernel.comm_manager;\n",
       "        //_.extend(comm_manager.targets, require(\"widgets/js/widget\"))\n",
       "\t    comm_manager.register_target(\"Signal\", function (comm) {\n",
       "            comm.on_msg(function (msg) {\n",
       "                //Widgets.log(\"message received\", msg);\n",
       "                var val = msg.content.data.value;\n",
       "                $(\".signal-\" + comm.comm_id).each(function() {\n",
       "                var type = $(this).data(\"type\");\n",
       "                if (val[type]) {\n",
       "                    redrawValue(this, type, val[type], type);\n",
       "                }\n",
       "                });\n",
       "                delete val;\n",
       "                delete msg.content.data.value;\n",
       "            });\n",
       "\t    });\n",
       "\n",
       "\t    // coordingate with Comm and redraw Signals\n",
       "\t    // XXX: Test using Reactive here to improve performance\n",
       "\t    $([IPython.events]).on(\n",
       "\t\t'output_appended.OutputArea', function (event, type, value, md, toinsert) {\n",
       "\t\t    if (md && md.reactive) {\n",
       "                // console.log(md.comm_id);\n",
       "                toinsert.addClass(\"signal-\" + md.comm_id);\n",
       "                toinsert.data(\"type\", type);\n",
       "                // Signal back indicating the mimetype required\n",
       "                var comm_manager = IPython.notebook.kernel.comm_manager;\n",
       "                var comm = comm_manager.comms[md.comm_id];\n",
       "                comm.then(function (c) {\n",
       "                    c.send({action: \"subscribe_mime\",\n",
       "                       mime: type});\n",
       "                    toinsert.bind(\"destroyed\", function() {\n",
       "                        c.send({action: \"unsubscribe_mime\",\n",
       "                               mime: type});\n",
       "                    });\n",
       "                })\n",
       "\t\t    }\n",
       "\t    });\n",
       "\t}\n",
       "\n",
       "\ttry {\n",
       "\t    // try to initialize right away. otherwise, wait on the status_started event.\n",
       "\t    initComm(undefined, IPython.notebook);\n",
       "\t} catch (e) {\n",
       "\t    $([IPython.events]).on('status_started.Kernel', initComm);\n",
       "\t}\n",
       "    });\n",
       "})(IPython, jQuery, _, MathJax, InputWidgets);\n",
       "</script>"
      ]
     },
     "metadata": {},
     "output_type": "display_data"
    }
   ],
   "source": [
    "using PyPlot\n",
    "using PyCall\n",
    "using Interact\n",
    "@pyimport matplotlib.animation as anim"
   ]
  },
  {
   "cell_type": "code",
   "execution_count": 2,
   "metadata": {
    "collapsed": true
   },
   "outputs": [],
   "source": [
    "using Histeresis"
   ]
  },
  {
   "cell_type": "code",
   "execution_count": 24,
   "metadata": {
    "collapsed": false
   },
   "outputs": [
    {
     "data": {
      "text/plain": [
       "grafica_histeresis (generic function with 1 method)"
      ]
     },
     "execution_count": 24,
     "metadata": {},
     "output_type": "execute_result"
    }
   ],
   "source": [
    "# Una función para graficar un ciclo completo, con título, nombre de ejes y leyenda\n",
    "\n",
    "function grafica_histeresis(mag1, hs1, mag2, hs2, N, R, H_set)\n",
    "    figure(figsize=(7,5))\n",
    "    xlabel(L\"H/J\") #J=1\n",
    "    ylabel(L\"M/N\")\n",
    "    title(latexstring(\"R = $R\"))\n",
    "    xlim(-H_set,H_set)\n",
    "    ylim(-1.3,1.8)\n",
    "\n",
    "    plot(hs1,mag1/N, \".\", label=\"s=-1, H aumenta\")\n",
    "    plot(hs2,mag2/N, \".\", label=\"s=+1, H disminuye\")\n",
    "    legend(loc=\"upper right\")\n",
    "end"
   ]
  },
  {
   "cell_type": "markdown",
   "metadata": {},
   "source": [
    "#### Todo el ciclocompleto: $H$ aumenta hasta voltear todos los espines, y luego disminuye hasta voltear todos los espines"
   ]
  },
  {
   "cell_type": "code",
   "execution_count": 9,
   "metadata": {
    "collapsed": false
   },
   "outputs": [
    {
     "name": "stdout",
     "output_type": "stream",
     "text": [
      "elapsed time: 0.90866486 seconds (137450464 bytes allocated, 32.65% gc time)\n",
      "elapsed time: 1.046358089 seconds (206575512 bytes allocated, 33.30% gc time)\n"
     ]
    }
   ],
   "source": [
    "L = 300\n",
    "R = 0.7\n",
    "espin = -1\n",
    "m = edo_inicial(L,R,espin)\n",
    "\n",
    "H_set = 5\n",
    "\n",
    "# Empezamos con los espines apuntando hacia abajo, e incrementamos el campo H\n",
    "@time mag1, hs1 = magnetizacion_aumenta_H!(m,H_set,espin)\n",
    "# Espines apuntando hacia arriba, disminuye H\n",
    "@time mag2, hs2 = magnetizacion_aumenta_H!(m,-H_set,-espin) ;"
   ]
  },
  {
   "cell_type": "code",
   "execution_count": 13,
   "metadata": {
    "collapsed": false,
    "scrolled": false
   },
   "outputs": [
    {
     "data": {
      "image/png": "[encoded data removed]",
      "text/plain": [
       "Figure(PyObject <matplotlib.figure.Figure object at 0x117506fd0>)"
      ]
     },
     "metadata": {},
     "output_type": "display_data"
    }
   ],
   "source": [
    "grafica_histeresis(mag1,hs1,mag2,hs2,m.N,R,H_set) ;"
   ]
  },
  {
   "cell_type": "code",
   "execution_count": 14,
   "metadata": {
    "collapsed": false
   },
   "outputs": [
    {
     "name": "stdout",
     "output_type": "stream",
     "text": [
      "elapsed time: 8.159230344 seconds (351713728 bytes allocated, 8.86% gc time)\n",
      "elapsed time: 8.338278497 seconds (358973160 bytes allocated, 8.32% gc time)\n"
     ]
    }
   ],
   "source": [
    "L = 300\n",
    "R = 0.9\n",
    "N = L^2\n",
    "espin = -1\n",
    "m = edo_inicial(L,R,espin)\n",
    "\n",
    "H_set = 5\n",
    "\n",
    "@time mag1, hs1 = magnetizacion_aumenta_H!(m,H_set,espin)\n",
    "@time mag2, hs2 = magnetizacion_aumenta_H!(m,-H_set,-espin) ;"
   ]
  },
  {
   "cell_type": "code",
   "execution_count": 25,
   "metadata": {
    "collapsed": false,
    "scrolled": false
   },
   "outputs": [
    {
     "data": {
      "image/png": "[encoded data removed]",
      "text/plain": [
       "Figure(PyObject <matplotlib.figure.Figure object at 0x11bb61d50>)"
      ]
     },
     "metadata": {},
     "output_type": "display_data"
    }
   ],
   "source": [
    "grafica_histeresis(mag1,hs1,mag2,hs2,m.N,R,H_set) ;"
   ]
  },
  {
   "cell_type": "code",
   "execution_count": 31,
   "metadata": {
    "collapsed": false
   },
   "outputs": [
    {
     "name": "stdout",
     "output_type": "stream",
     "text": [
      "elapsed time: 108.444439642 seconds (4400636048 bytes allocated, 9.25% gc time)\n",
      "elapsed time: 112.517426087 seconds (4268193240 bytes allocated, 9.63% gc time)\n"
     ]
    }
   ],
   "source": [
    "L = 300\n",
    "R = 1.4\n",
    "N = L^2\n",
    "espin = -1\n",
    "m = edo_inicial(L,R,espin)\n",
    "\n",
    "H_set = 5\n",
    "@time mag1, hs1 = magnetizacion_aumenta_H!(m,H_set,espin)\n",
    "@time mag2, hs2 = magnetizacion_aumenta_H!(m,-H_set,-espin) ;"
   ]
  },
  {
   "cell_type": "code",
   "execution_count": 32,
   "metadata": {
    "collapsed": false,
    "scrolled": false
   },
   "outputs": [
    {
     "data": {
      "image/png": "[encoded data removed]",
      "text/plain": [
       "Figure(PyObject <matplotlib.figure.Figure object at 0x117d44650>)"
      ]
     },
     "metadata": {},
     "output_type": "display_data"
    }
   ],
   "source": [
    "grafica_histeresis(mag1,hs1,mag2,hs2,m.N,R,H_set) ;"
   ]
  },
  {
   "cell_type": "markdown",
   "metadata": {
    "collapsed": true
   },
   "source": [
    "#### Con Sliders, sólo la subida o sólo la bajada"
   ]
  },
  {
   "cell_type": "code",
   "execution_count": 37,
   "metadata": {
    "collapsed": false
   },
   "outputs": [
    {
     "data": {
      "text/html": [],
      "text/plain": [
       "Slider{Int64}([Input{Int64}] 0,\"H_set\",0,-15:15)"
      ]
     },
     "metadata": {},
     "output_type": "display_data"
    },
    {
     "data": {
      "text/html": [],
      "text/plain": [
       "Options{:ToggleButtons,Int64}([Input{Int64}] -1,\"espin\",-1,\"-1\",[\"-1\"=>-1,\"+1\"=>1])"
      ]
     },
     "metadata": {},
     "output_type": "display_data"
    },
    {
     "data": {
      "image/png": "[encoded data removed]",
      "text/plain": [
       "Figure(PyObject <matplotlib.figure.Figure object at 0x10ba205d0>)"
      ]
     },
     "execution_count": 37,
     "metadata": {
      "comm_id": "3b4c5c5c-1292-49c1-8fc1-8d7d062c5a3a",
      "reactive": true
     },
     "output_type": "execute_result"
    }
   ],
   "source": [
    "L = 50\n",
    "R = 4\n",
    "N = L^2\n",
    "H_max = 15\n",
    "\n",
    "fig = figure(figsize=(7,5))\n",
    "xlabel(L\"H/J\") #J=1\n",
    "ylabel(L\"M/N\")\n",
    "\n",
    "\n",
    "@manipulate for H_set=-H_max:H_max, espin=[symbol(\"-1\") => -1, symbol(\"+1\") => 1]\n",
    "    withfig(fig) do\n",
    "        xlim(-H_max,H_max)\n",
    "        ylim(-1,1)\n",
    "        \n",
    "        m = edo_inicial(L,R,espin)\n",
    "        mag, hs = magnetizacion_aumenta_H!(m,H_set,espin)\n",
    "        plot(hs,mag/N, \".\")\n",
    "    end\n",
    "end"
   ]
  },
  {
   "cell_type": "markdown",
   "metadata": {},
   "source": [
    "### Distribuciones de avalanchas"
   ]
  },
  {
   "cell_type": "code",
   "execution_count": null,
   "metadata": {
    "collapsed": true
   },
   "outputs": [],
   "source": [
    "1,2,3,4"
   ]
  },
  {
   "cell_type": "code",
   "execution_count": null,
   "metadata": {
    "collapsed": true
   },
   "outputs": [],
   "source": [
    "L = 50\n",
    "R = 2\n",
    "H_set = 15\n",
    "espin = -1\n",
    "m = edo_inicial(L,R,espin)\n",
    "\n",
    "mag, hs, volteados = magnetizacion_aumenta_H!(m, H_set, espin) \n",
    "\n",
    "M = maximum(volteados)\n",
    "\n",
    "figure(figsize=(5,3))\n",
    "plt.hist(volteados, M, (1, M+1));"
   ]
  },
  {
   "cell_type": "markdown",
   "metadata": {},
   "source": [
    "### Animaciones"
   ]
  },
  {
   "cell_type": "code",
   "execution_count": 38,
   "metadata": {
    "collapsed": false
   },
   "outputs": [
    {
     "data": {
      "text/plain": [
       "display_histeresis (generic function with 1 method)"
      ]
     },
     "execution_count": 38,
     "metadata": {},
     "output_type": "execute_result"
    }
   ],
   "source": [
    "function anima_histeresis(edos, nombre::ASCIIString)\n",
    "    fig = figure(figsize=(5,5))\n",
    "    cuadros = [[imshow(edos[i], interpolation=\"none\", vmin=-1, vmax=1)] for i=1:length(edos)]\n",
    "    \n",
    "    animacion = anim.ArtistAnimation(fig, cuadros, interval=200, blit=true) \n",
    "    animacion[:save](nombre*\".mp4\", extra_args=[\"-vcodec\", \"libx264\", \"-pix_fmt\", \"yuv420p\"])\n",
    "end\n",
    "\n",
    "function display_histeresis(nombre::ASCIIString)\n",
    "    display(\"text/html\", string(\"\"\"<video autoplay controls><source src=\"data:video/x-m4v;base64,\"\"\",base64(open(readbytes,nombre*\".mp4\")),\"\"\"\" type=\"video/mp4\"></video>\"\"\"))\n",
    "end"
   ]
  },
  {
   "cell_type": "code",
   "execution_count": 41,
   "metadata": {
    "collapsed": false
   },
   "outputs": [
    {
     "data": {
      "image/png": "[encoded data removed]",
      "text/plain": [
       "Figure(PyObject <matplotlib.figure.Figure object at 0x11c589bd0>)"
      ]
     },
     "metadata": {},
     "output_type": "display_data"
    }
   ],
   "source": [
    "L = 20\n",
    "R = 2\n",
    "espin = -1\n",
    "m = edo_inicial(L,R,espin)\n",
    "\n",
    "H_set = 15\n",
    "\n",
    "edos = microEstados_aumenta_H!(m,H_set,espin)\n",
    "anima_histeresis(edos, \"histeresis1\") ;"
   ]
  },
  {
   "cell_type": "code",
   "execution_count": 42,
   "metadata": {
    "collapsed": false
   },
   "outputs": [
    {
     "data": {
      "text/html": [
       "<video autoplay controls><source src=\"data:video/x-m4v;base64,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\" type=\"video/mp4\"></video>"
      ]
     },
     "metadata": {},
     "output_type": "display_data"
    }
   ],
   "source": [
    "display_histeresis(\"histeresis1\")"
   ]
  },
  {
   "cell_type": "code",
   "execution_count": null,
   "metadata": {
    "collapsed": true
   },
   "outputs": [],
   "source": []
  }
 ],
 "metadata": {
  "kernelspec": {
   "display_name": "Julia 0.3.6",
   "language": "julia",
   "name": "julia 0.3"
  },
  "language_info": {
   "name": "julia",
   "version": "0.3.6"
  }
 },
 "nbformat": 4,
 "nbformat_minor": 0
}
