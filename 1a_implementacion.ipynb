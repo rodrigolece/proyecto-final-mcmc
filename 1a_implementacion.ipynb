{
 "cells": [
  {
   "cell_type": "markdown",
   "metadata": {},
   "source": [
    "Hamiltoniano:\n",
    "\n",
    "$$ H = - \\sum_{\\langle i, j \\rangle} J s_i s_j - \\sum_{i}(H(t) + h_i)s_i $$"
   ]
  },
  {
   "cell_type": "markdown",
   "metadata": {},
   "source": [
    "El campo aleatorio se saca de la distribución:\n",
    "\n",
    "$$ P(h) =  \\frac{1}{\\sqrt{2 \\pi} R} e^{-h^2/2R^2} $$"
   ]
  },
  {
   "cell_type": "code",
   "execution_count": 4,
   "metadata": {
    "collapsed": false
   },
   "outputs": [
    {
     "name": "stderr",
     "output_type": "stream",
     "text": [
      "INFO: Loading help data...\n"
     ]
    }
   ],
   "source": [
    "using PyPlot"
   ]
  },
  {
   "cell_type": "code",
   "execution_count": 1,
   "metadata": {
    "collapsed": false
   },
   "outputs": [
    {
     "data": {
      "text/plain": [
       "show (generic function with 91 methods)"
      ]
     },
     "execution_count": 1,
     "metadata": {},
     "output_type": "execute_result"
    }
   ],
   "source": [
    "type MicroEstado\n",
    "    σ::Array{Int,2}\n",
    "    h::Array{Float64,2}\n",
    "    #Vamos a suponer que todas las configuraciones son cuadradas\n",
    "    L::Int\n",
    "end\n",
    "\n",
    "import Base.show \n",
    "\n",
    "show(io::IO, m::MicroEstado) = print(io, m.σ)\n",
    "\n",
    "import PyPlot.imshow\n",
    "\n",
    "imshow(m::MicroEstado) = imshow(m.σ, interpolation=\"none\")d"
   ]
  },
  {
   "cell_type": "code",
   "execution_count": 2,
   "metadata": {
    "collapsed": false
   },
   "outputs": [
    {
     "data": {
      "text/plain": [
       "edo_inicial (generic function with 1 method)"
      ]
     },
     "execution_count": 2,
     "metadata": {},
     "output_type": "execute_result"
    }
   ],
   "source": [
    "function edo_inicial(L::Int)\n",
    "    σ = -ones(Int, (L,L))\n",
    "    \n",
    "    h = Array(Float64, (L,L))\n",
    "    for i in 1:L^2\n",
    "        # Temporal, hay que cambiar la distribución\n",
    "        h[i] = randn()\n",
    "    end\n",
    "        \n",
    "    MicroEstado(σ, h, L)\n",
    "end"
   ]
  },
  {
   "cell_type": "code",
   "execution_count": 53,
   "metadata": {
    "collapsed": false
   },
   "outputs": [
    {
     "data": {
      "text/plain": [
       "energia_espin (generic function with 1 method)"
      ]
     },
     "execution_count": 53,
     "metadata": {},
     "output_type": "execute_result"
    }
   ],
   "source": [
    "function energia_espin(m::MicroEstado, i::Int, j::Int)\n",
    "    σ = m.σ ; L = m.L\n",
    "    \n",
    "    #Tal vez deberíamos de cambiar el signo de la energía\n",
    "    σ[i,j]*( σ[mod1(i-1, L),j] + σ[mod1(i+1, L),j] + σ[i,mod1(j-1, L)] + σ[i,mod1(j+1, L)] ) + \n",
    "    m.h[i,j]\n",
    "end"
   ]
  },
  {
   "cell_type": "code",
   "execution_count": 5,
   "metadata": {
    "collapsed": false
   },
   "outputs": [
    {
     "data": {
      "text/plain": [
       "voltea_espin! (generic function with 1 method)"
      ]
     },
     "execution_count": 5,
     "metadata": {},
     "output_type": "execute_result"
    }
   ],
   "source": [
    "function voltea_espin!(m::MicroEstado, i::Int, j::Int)\n",
    "    if m.σ[i,j] == -1\n",
    "        m.σ[i,j] *= -1\n",
    "    end\n",
    "end"
   ]
  },
  {
   "cell_type": "code",
   "execution_count": 6,
   "metadata": {
    "collapsed": false
   },
   "outputs": [
    {
     "data": {
      "text/plain": [
       "max_energia_abajo (generic function with 1 method)"
      ]
     },
     "execution_count": 6,
     "metadata": {},
     "output_type": "execute_result"
    }
   ],
   "source": [
    "function max_energia_abajo(m::MicroEstado,min_energia)\n",
    "    energias = Array(Float64,(m.L,m.L))\n",
    "    \n",
    "    for i = 1:m.L, j = 1:m.L\n",
    "        if m.σ[i,j] == -1\n",
    "            energias[i,j] = energia_espin(m,i,j)\n",
    "        else\n",
    "            energias[i,j] = min_energia\n",
    "        end\n",
    "    end\n",
    "    \n",
    "    #Si cambiamos signo de la energía sería findmin\n",
    "    f = findmax(energia) # Da el máximo y el ínidice lineal del máximo\n",
    "    i = mod1(f[2], m.L)\n",
    "    j = int(ceil(f[2]/m.L))\n",
    "    \n",
    "    f[1], i, j\n",
    "end"
   ]
  },
  {
   "cell_type": "code",
   "execution_count": 7,
   "metadata": {
    "collapsed": false
   },
   "outputs": [
    {
     "data": {
      "text/plain": [
       "espines_vecinos_abajo (generic function with 1 method)"
      ]
     },
     "execution_count": 7,
     "metadata": {},
     "output_type": "execute_result"
    }
   ],
   "source": [
    "function espines_vecinos_abajo(m::MicroEstado,i::Int,j::Int)\n",
    "    vecinos = [ (mod1(i-1,m.L),j), (mod1(i+1,m.L),j), (i,mod1(j-1,m.L)), (i,mod1(j+1,m.L)) ]\n",
    "    vecinos_abajo = (Int,Int)[]\n",
    "    \n",
    "    for k in vecinos\n",
    "        if m.σ[k...] == -1\n",
    "            push!(vecinos_abajo, k)\n",
    "        end\n",
    "    end\n",
    "    \n",
    "    vecinos_abajo        \n",
    "end"
   ]
  },
  {
   "cell_type": "code",
   "execution_count": 8,
   "metadata": {
    "collapsed": false
   },
   "outputs": [
    {
     "data": {
      "text/plain": [
       "avalancha (generic function with 1 method)"
      ]
     },
     "execution_count": 8,
     "metadata": {},
     "output_type": "execute_result"
    }
   ],
   "source": [
    "function avalancha(m::MicroEstado, i::Int, j::Int, H::Float64)    \n",
    "    voltea_espin!(m,i,j)\n",
    "    #puede haber un problema, si se escoje de entrada un espín que ya está volteado\n",
    "    espines_volteados = [(i,j)]\n",
    "    \n",
    "    candidatos = espines_vecinos_abajo(m,i,j)\n",
    "    \n",
    "    while length(candidatos) > 0\n",
    "        nuevos_candidatos = (Int,Int)[]\n",
    "        \n",
    "        for k in candidatos\n",
    "            if -energia_espin(m,k...) > H \n",
    "                voltea_espin!(m,k...])\n",
    "                push!(espines_volteados,k)\n",
    "                push!(nuevos_candidatos, espines_vecinos_abajo(m,k...)\n",
    "#                 nuevos_candidatos = vcat(nuevos_candidatos,espines_vecinos_abajo(m,k[1],k[2]))\n",
    "            end\n",
    "        end\n",
    "        \n",
    "        candidatos = nuevos_candidatos\n",
    "    end\n",
    "    \n",
    "    m, espines_volteados\n",
    "end"
   ]
  },
  {
   "cell_type": "code",
   "execution_count": 84,
   "metadata": {
    "collapsed": false
   },
   "outputs": [
    {
     "data": {
      "text/plain": [
       "(6.37057875537757,6,3)"
      ]
     },
     "execution_count": 84,
     "metadata": {},
     "output_type": "execute_result"
    }
   ],
   "source": [
    "T = edo_inicial(6)\n",
    "energia_minima = minimum(T.h)-5\n",
    "max_energia_abajo(T,energia_minima)"
   ]
  },
  {
   "cell_type": "code",
   "execution_count": 85,
   "metadata": {
    "collapsed": false
   },
   "outputs": [
    {
     "data": {
      "text/plain": [
       "6x6 Array{Float64,2}:\n",
       " -1.66264   -0.706165    1.36966    0.389671  -0.825701   1.94185  \n",
       " -0.1798    -0.183372    0.302822   0.868958  -0.628087  -0.919909 \n",
       "  0.327284  -1.75213    -0.867008  -1.95993    0.481889  -2.21498  \n",
       "  0.422589   0.0284989   0.200689   0.404626  -1.45407   -0.0199838\n",
       "  0.629627   0.368809    1.81832   -0.691898   1.24912   -0.776488 \n",
       " -0.442832   1.27428     2.37058    0.415274   0.342536  -0.648113 "
      ]
     },
     "execution_count": 85,
     "metadata": {},
     "output_type": "execute_result"
    }
   ],
   "source": [
    "T.h"
   ]
  },
  {
   "cell_type": "code",
   "execution_count": 86,
   "metadata": {
    "collapsed": false,
    "scrolled": false
   },
   "outputs": [
    {
     "name": "stdout",
     "output_type": "stream",
     "text": [
      "H - 4 => 2.3705787553775703\n",
      "volteados => [(6,3)]\n",
      "[-1 -1 -1 -1 -1 -1\n",
      " -1 -1 -1 -1 -1 -1\n",
      " -1 -1 -1 -1 -1 -1\n",
      " -1 -1 -1 -1 -1 -1\n",
      " -1 -1 -1 -1 -1 -1\n",
      " -1 -1 1 -1 -1 -1]\n",
      "\n",
      "H - 4 => 1.9418499042339823\n",
      "volteados => [(1,6)]\n",
      "[-1 -1 -1 -1 -1 1\n",
      " -1 -1 -1 -1 -1 -1\n",
      " -1 -1 -1 -1 -1 -1\n",
      " -1 -1 -1 -1 -1 -1\n",
      " -1 -1 -1 -1 -1 -1\n",
      " -1 -1 1 -1 -1 -1]\n",
      "\n",
      "H - 4 => 1.249117243780404\n",
      "volteados => [(5,5)]\n",
      "[-1 -1 -1 -1 -1 1\n",
      " -1 -1 -1 -1 -1 -1\n",
      " -1 -1 -1 -1 -1 -1\n",
      " -1 -1 -1 -1 -1 -1\n",
      " -1 -1 -1 -1 1 -1\n",
      " -1 -1 1 -1 -1 -1]\n",
      "\n",
      "H - 4 => 0.8689584532562735\n",
      "volteados => [(2,4)]\n",
      "[-1 -1 -1 -1 -1 1\n",
      " -1 -1 -1 1 -1 -1\n",
      " -1 -1 -1 -1 -1 -1\n",
      " -1 -1 -1 -1 -1 -1\n",
      " -1 -1 -1 -1 1 -1\n",
      " -1 -1 1 -1 -1 -1]\n",
      "\n",
      "H - 4 => 0.6296271375564935\n",
      "volteados => [(5,1)]\n",
      "[-1 -1 -1 -1 -1 1\n",
      " -1 -1 -1 1 -1 -1\n",
      " -1 -1 -1 -1 -1 -1\n",
      " -1 -1 -1 -1 -1 -1\n",
      " 1 -1 -1 -1 1 -1\n",
      " -1 -1 1 -1 -1 -1]\n",
      "\n",
      "H - 4 => 0.48188909161392157\n",
      "volteados => [(3,5)]\n",
      "[-1 -1 -1 -1 -1 1\n",
      " -1 -1 -1 1 -1 -1\n",
      " -1 -1 -1 -1 1 -1\n",
      " -1 -1 -1 -1 -1 -1\n",
      " 1 -1 -1 -1 1 -1\n",
      " -1 -1 1 -1 -1 -1]\n",
      "\n",
      "H - 4 => 0.4046257495197647\n",
      "volteados => [(4,4)]\n",
      "[-1 -1 -1 -1 -1 1\n",
      " -1 -1 -1 1 -1 -1\n",
      " -1 -1 -1 -1 1 -1\n",
      " -1 -1 -1 1 -1 -1\n",
      " 1 -1 -1 -1 1 -1\n",
      " -1 -1 1 -1 -1 -1]\n",
      "\n",
      "H - 4 => 0.3272838071906685\n",
      "volteados => [(3,1)]\n",
      "[-1 -1 -1 -1 -1 1\n",
      " -1 -1 -1 1 -1 -1\n",
      " 1 -1 -1 -1 1 -1\n",
      " -1 -1 -1 1 -1 -1\n",
      " 1 -1 -1 -1 1 -1\n",
      " -1 -1 1 -1 -1 -1]\n",
      "\n",
      "H - 4 => 0.02849889832987973\n",
      "volteados => [(4,2)]\n",
      "[-1 -1 -1 -1 -1 1\n",
      " -1 -1 -1 1 -1 -1\n",
      " 1 -1 -1 -1 1 -1\n",
      " -1 1 -1 1 -1 -1\n",
      " 1 -1 -1 -1 1 -1\n",
      " -1 -1 1 -1 -1 -1]\n",
      "\n",
      "H - 4 => -0.01998379276712381\n",
      "volteados => [(4,6),(3,6),(4,5)]\n",
      "[-1 -1 -1 -1 -1 1\n",
      " -1 -1 -1 1 -1 -1\n",
      " 1 -1 -1 -1 1 1\n",
      " -1 1 -1 1 1 1\n",
      " 1 -1 -1 -1 1 -1\n",
      " -1 -1 1 -1 -1 -1]\n",
      "\n",
      "H - 4 => -0.18167829462557483\n",
      "volteados => [(5,3)]\n",
      "[-1 -1 -1 -1 -1 1\n",
      " -1 -1 -1 1 -1 -1\n",
      " 1 -1 -1 -1 1 1\n",
      " -1 1 -1 1 1 1\n",
      " 1 -1 1 -1 1 -1\n",
      " -1 -1 1 -1 -1 -1]\n",
      "\n",
      "H - 4 => -0.18337199528578418\n",
      "volteados => [(2,2)]\n",
      "[-1 -1 -1 -1 -1 1\n",
      " -1 1 -1 1 -1 -1\n",
      " 1 -1 -1 -1 1 1\n",
      " -1 1 -1 1 1 1\n",
      " 1 -1 1 -1 1 -1\n",
      " -1 -1 1 -1 -1 -1]\n",
      "\n",
      "H - 4 => -0.630340304801944\n",
      "volteados => [(1,3)]\n",
      "[-1 -1 1 -1 -1 1\n",
      " -1 1 -1 1 -1 -1\n",
      " 1 -1 -1 -1 1 1\n",
      " -1 1 -1 1 1 1\n",
      " 1 -1 1 -1 1 -1\n",
      " -1 -1 1 -1 -1 -1]\n",
      "\n",
      "H - 4 => -0.7257216023408297\n",
      "volteados => [(6,2),(5,2)]\n",
      "[-1 -1 1 -1 -1 1\n",
      " -1 1 -1 1 -1 -1\n",
      " 1 -1 -1 -1 1 1\n",
      " -1 1 -1 1 1 1\n",
      " 1 1 1 -1 1 -1\n",
      " -1 1 1 -1 -1 -1]\n",
      "\n",
      "H - 4 => -0.8670075925880312\n",
      "volteados => [(3,3),(2,3),(4,3),(3,2),(3,4)]\n",
      "[-1 -1 1 -1 -1 1\n",
      " -1 1 1 1 -1 -1\n",
      " 1 1 1 1 1 1\n",
      " -1 1 1 1 1 1\n",
      " 1 1 1 -1 1 -1\n",
      " -1 1 1 -1 -1 -1]\n",
      "\n",
      "H - 4 => -1.5847255378699976\n",
      "volteados => [(6,4),(5,4)]\n",
      "[-1 -1 1 -1 -1 1\n",
      " -1 1 1 1 -1 -1\n",
      " 1 1 1 1 1 1\n",
      " -1 1 1 1 1 1\n",
      " 1 1 1 1 1 -1\n",
      " -1 1 1 1 -1 -1]\n",
      "\n",
      "H - 4 => -2.6481134569898233\n",
      "volteados => [(6,6),(5,6),(6,5),(6,1),(1,1),(2,1),(1,2),(2,6),(2,5),(1,5),(1,4)]\n",
      "[1 1 1 1 1 1\n",
      " 1 1 1 1 1 1\n",
      " 1 1 1 1 1 1\n",
      " -1 1 1 1 1 1\n",
      " 1 1 1 1 1 1\n",
      " 1 1 1 1 1 1]\n",
      "\n",
      "H - 4 => -7.57741108628956\n",
      "volteados => [(4,1)]\n",
      "[1 1 1 1 1 1\n",
      " 1 1 1 1 1 1\n",
      " 1 1 1 1 1 1\n",
      " 1 1 1 1 1 1\n",
      " 1 1 1 1 1 1\n",
      " 1 1 1 1 1 1]\n",
      "\n"
     ]
    }
   ],
   "source": [
    "while sum(T.σ) < T.L^2\n",
    "#     figure(figsize=(4,4))\n",
    "#     imshow(T)\n",
    "    H,i,j = max_energia_abajo(T,energia_minima)\n",
    "    @show H-4\n",
    "    T, volteados = avalancha(T,i,j,H)\n",
    "    @show volteados\n",
    "    println(T)\n",
    "    println()\n",
    "end"
   ]
  },
  {
   "cell_type": "code",
   "execution_count": null,
   "metadata": {
    "collapsed": true
   },
   "outputs": [],
   "source": []
  }
 ],
 "metadata": {
  "kernelspec": {
   "display_name": "Julia 0.3.6",
   "language": "julia",
   "name": "julia 0.3"
  },
  "language_info": {
   "name": "julia",
   "version": "0.3.6"
  }
 },
 "nbformat": 4,
 "nbformat_minor": 0
}
